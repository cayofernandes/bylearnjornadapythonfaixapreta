{
  "nbformat": 4,
  "nbformat_minor": 0,
  "metadata": {
    "colab": {
      "name": "Untitled13.ipynb",
      "provenance": [],
      "authorship_tag": "ABX9TyPG6RMPnSYWLxTwwBaZ9w2m",
      "include_colab_link": true
    },
    "kernelspec": {
      "name": "python3",
      "display_name": "Python 3"
    }
  },
  "cells": [
    {
      "cell_type": "markdown",
      "metadata": {
        "id": "view-in-github",
        "colab_type": "text"
      },
      "source": [
        "<a href=\"https://colab.research.google.com/github/cayofernandes/bylearnjornadapythonfaixapreta/blob/main/Untitled13.ipynb\" target=\"_parent\"><img src=\"https://colab.research.google.com/assets/colab-badge.svg\" alt=\"Open In Colab\"/></a>"
      ]
    },
    {
      "cell_type": "code",
      "metadata": {
        "id": "KdcW8waeMwBc",
        "outputId": "3eba121f-ce73-420d-f0cf-b0356bf8a92b",
        "colab": {
          "base_uri": "https://localhost:8080/",
          "height": 51
        }
      },
      "source": [
        "pergunta = input(\"digite sua pergunta \")\n",
        "if pergunta == \"devo sair de casa hoje\":\n",
        "  print(\"nao, esta chovendo\")\n",
        "if pergunta == \"deve dar valor para uma menina que so me rejeita\":\n",
        "  print(\"nao cara voce merece muito mais que isso \")\n",
        "if pergunta == \"quando essa pandemia ira acabar\":\n",
        "  print(\"provavelmente inicio do ano que vem\")\n",
        "if pergunta == \"oque eu devo assistir hoje\":\n",
        "  print(\"com essa chuva vai bem uma netflix\")\n",
        "if pergunta == \"18>23\":\n",
        "  print(\"nao 18<23\")"
      ],
      "execution_count": 4,
      "outputs": [
        {
          "output_type": "stream",
          "text": [
            "digite sua pergunta quando essa pandemia ira acabar\n",
            "provavelmente inicio do ano que vem\n"
          ],
          "name": "stdout"
        }
      ]
    },
    {
      "cell_type": "code",
      "metadata": {
        "id": "32NLaLAwO2gK",
        "outputId": "14554cfc-f07c-41a6-df7d-502517380a4d",
        "colab": {
          "base_uri": "https://localhost:8080/",
          "height": 51
        }
      },
      "source": [
        "numero_da_sorte = int (input(\"digite um numero \"))\n",
        "\n",
        "if numero_da_sorte <43:\n",
        "  print(\"mais alto\")\n",
        "if numero_da_sorte >43:\n",
        "  print(\"muito alto\")\n",
        "if numero_da_sorte == 43:\n",
        "  print(\"parabes vc acertou\")\n"
      ],
      "execution_count": 16,
      "outputs": [
        {
          "output_type": "stream",
          "text": [
            "digite um numero 43\n",
            "parabes vc acertou\n"
          ],
          "name": "stdout"
        }
      ]
    }
  ]
}